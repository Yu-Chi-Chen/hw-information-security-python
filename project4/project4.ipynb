{
 "cells": [
  {
   "attachments": {},
   "cell_type": "markdown",
   "metadata": {},
   "source": [
    "# Project4\n",
    "### 畫出project3的文字檔與圖檔之histgram\n"
   ]
  },
  {
   "attachments": {},
   "cell_type": "markdown",
   "metadata": {},
   "source": [
    "### def decimalToBinary(num:int) input: int  output: string"
   ]
  },
  {
   "cell_type": "code",
   "execution_count": 5,
   "metadata": {},
   "outputs": [],
   "source": [
    "import math\n",
    "\n",
    "def decimalToBinary(num:int):\n",
    "    divisor=0\n",
    "    arrList=list()\n",
    "    arrList.clear()\n",
    "\n",
    "    dividend=num\n",
    "    ## 沒有寫floor會出錯\n",
    "    while(dividend/2!=0):\n",
    "            divisor+=1\n",
    "            dividend=math.floor(dividend/2)\n",
    "    ## end while\n",
    "\n",
    "    while(divisor>=0):\n",
    "        if(num>=math.pow(2,divisor)):\n",
    "                num-=math.pow(2,divisor)\n",
    "                divisor-=1\n",
    "                arrList.append('1')\n",
    "        else:\n",
    "                divisor-=1\n",
    "                arrList.append('0')\n",
    "            ##end if-else\n",
    "    ## end while\n",
    "\n",
    "\n",
    "    while(len(arrList)<8):\n",
    "        arrList.insert(0,0)\n",
    "    ## end while\n",
    "\n",
    "    binary_string: str = \"\"\n",
    "    for char_num in arrList:\n",
    "        binary_string = binary_string + str(char_num)\n",
    "\n",
    "    # str: str=\"\".join(arrList)\n",
    "    # if __name__=='_main_':\n",
    "    #     return str\n",
    "    \n",
    "    return binary_string\n",
    "##end define"
   ]
  },
  {
   "attachments": {},
   "cell_type": "markdown",
   "metadata": {},
   "source": [
    "### def readIMGtopixel(path) input: image path  output: imgpixelmatrix"
   ]
  },
  {
   "cell_type": "code",
   "execution_count": 6,
   "metadata": {},
   "outputs": [],
   "source": [
    "from PIL import Image\n",
    "import numpy as np\n",
    "\n",
    "WIDTH=int(0)\n",
    "HEIGHT=int(0)\n",
    "def readIMGtopixel(path):\n",
    "    img: Image =Image.open(path)\n",
    "    imgMatrix = np.array(Image.open(path).convert('L'),'i') #dtype=int\n",
    "    HEIGHT=int(img.height)\n",
    "    WIDTH=int(img.width)\n",
    "    return imgMatrix,HEIGHT,WIDTH\n",
    "#end def"
   ]
  },
  {
   "attachments": {},
   "cell_type": "markdown",
   "metadata": {},
   "source": [
    "### def binaryToDecimal(num) input: int32 output: decimal"
   ]
  },
  {
   "cell_type": "code",
   "execution_count": 7,
   "metadata": {},
   "outputs": [],
   "source": [
    "def binaryToDecimal(num):\n",
    "    temp=num\n",
    "    dec=int(0)\n",
    "    for i in range (len(str(num))):\n",
    "        if((temp%10)==1):\n",
    "            dec+=math.pow(2,i)\n",
    "        \n",
    "        temp=int(temp/10)\n",
    "    #end for\n",
    "    return dec;"
   ]
  },
  {
   "attachments": {},
   "cell_type": "markdown",
   "metadata": {},
   "source": [
    "### readTextFile(path)"
   ]
  },
  {
   "cell_type": "code",
   "execution_count": 8,
   "metadata": {},
   "outputs": [],
   "source": [
    "def readTextFile(path):\n",
    "    with open(path,'r') as f:\n",
    "        text=f.read()\n",
    "\n",
    "    return text"
   ]
  },
  {
   "attachments": {},
   "cell_type": "markdown",
   "metadata": {},
   "source": [
    "### def openTextFile(path)"
   ]
  },
  {
   "cell_type": "code",
   "execution_count": 9,
   "metadata": {},
   "outputs": [],
   "source": [
    "def openTextFile(path):\n",
    "    with open(path,\"r\") as f:\n",
    "        txtContent=f.read()\n",
    "\n",
    "    return txtContent"
   ]
  },
  {
   "attachments": {},
   "cell_type": "markdown",
   "metadata": {},
   "source": [
    "### def writeTextWithString(path,text)"
   ]
  },
  {
   "cell_type": "code",
   "execution_count": 10,
   "metadata": {},
   "outputs": [],
   "source": [
    "def writeTextWithString(path,text):\n",
    "    with open(path,'w')as f:\n",
    "        f.write(text)"
   ]
  },
  {
   "attachments": {},
   "cell_type": "markdown",
   "metadata": {},
   "source": [
    "### def stringToDecimal(text) covert originalstring to decimal"
   ]
  },
  {
   "cell_type": "code",
   "execution_count": null,
   "metadata": {},
   "outputs": [],
   "source": []
  },
  {
   "attachments": {},
   "cell_type": "markdown",
   "metadata": {},
   "source": [
    "## 文字檔部分"
   ]
  },
  {
   "attachments": {},
   "cell_type": "markdown",
   "metadata": {},
   "source": [
    "##### open text file"
   ]
  },
  {
   "cell_type": "code",
   "execution_count": 17,
   "metadata": {},
   "outputs": [
    {
     "name": "stdout",
     "output_type": "stream",
     "text": [
      "[  0.   0.   0.   0.   0.   0.   0.   0.   0.   0.   0.   0.   0.   0.\n",
      "   0.   0.   0.   0.   0.   0.   0.   0.   0.   0.   0.   0.   0.   0.\n",
      "   0.   0.   0.   0. 493.   0.   0.   0.   0.   0.   0.   2.   1.   1.\n",
      "   0.   0.  29.   4.  31.   0.   9.  10.   2.   2.   2.   3.   7.   1.\n",
      "   6.   1.   0.   0.   0.   0.   0.   0.   0.  11.   2.  22.   2.   1.\n",
      "   2.   3.   1.   4.   1.   1.   4.   4.   1.   1.   0.   0.   3.  12.\n",
      "  15.  11.   1.  12.   0.   0.   0.   6.   0.   6.   0.   0.   0. 215.\n",
      "  25.  71. 104. 326.  66.  25. 104. 176.   6.   8. 114.  47. 200. 187.\n",
      "  36.   2. 177. 160. 248.  69.  32.  35.   2.  44.   3.   0.   0.   0.\n",
      "   0.   0.]\n",
      "[0.         0.         0.         0.         0.         0.\n",
      " 0.         0.         0.         0.         0.         0.\n",
      " 0.         0.         0.         0.         0.         0.\n",
      " 0.         0.         0.         0.         0.         0.\n",
      " 0.         0.         0.         0.         0.         0.\n",
      " 0.         0.         0.15348692 0.         0.         0.\n",
      " 0.         0.         0.         0.00062267 0.00031133 0.00031133\n",
      " 0.         0.         0.00902864 0.00124533 0.00965131 0.\n",
      " 0.00280199 0.00311333 0.00062267 0.00062267 0.00062267 0.000934\n",
      " 0.00217933 0.00031133 0.001868   0.00031133 0.         0.\n",
      " 0.         0.         0.         0.         0.         0.00342466\n",
      " 0.00062267 0.00684932 0.00062267 0.00031133 0.00062267 0.000934\n",
      " 0.00031133 0.00124533 0.00031133 0.00031133 0.00124533 0.00124533\n",
      " 0.00031133 0.00031133 0.         0.         0.000934   0.00373599\n",
      " 0.00466999 0.00342466 0.00031133 0.00373599 0.         0.\n",
      " 0.         0.001868   0.         0.001868   0.         0.\n",
      " 0.         0.06693649 0.00778331 0.02210461 0.03237858 0.1014944\n",
      " 0.02054795 0.00778331 0.03237858 0.05479452 0.001868   0.00249066\n",
      " 0.03549191 0.01463263 0.0622665  0.05821918 0.01120797 0.00062267\n",
      " 0.05510585 0.0498132  0.07721046 0.02148194 0.00996264 0.01089664\n",
      " 0.00062267 0.01369863 0.000934   0.         0.         0.\n",
      " 0.         0.        ]\n"
     ]
    }
   ],
   "source": [
    "import matplotlib.pyplot as plt\n",
    "originText=readTextFile(\"..\\Txt_File .txt\")\n",
    "originASCIIDec=[]\n",
    "#convert to binary\n",
    "for element in originText:\n",
    "    originASCIIDec.append(ord(element))\n",
    "#end for\n",
    "cnt=int(0)\n",
    "countText=np.zeros(128)\n",
    "for i in range(len(originASCIIDec)):\n",
    "    cnt+=1\n",
    "    countText[originASCIIDec[i]]+=1\n",
    "cntTXTLIST=[]\n",
    "print(countText)\n",
    "for i in range(len(countText)):\n",
    "    countText[i]=countText[i]/cnt\n",
    "    cntTXTLIST.append(countText[i])\n",
    "\n",
    "\n",
    "print(countText)"
   ]
  },
  {
   "attachments": {},
   "cell_type": "markdown",
   "metadata": {},
   "source": [
    "### 計算Information"
   ]
  },
  {
   "cell_type": "code",
   "execution_count": 23,
   "metadata": {},
   "outputs": [
    {
     "name": "stdout",
     "output_type": "stream",
     "text": [
      "378.4798889437224\n"
     ]
    }
   ],
   "source": [
    "import math\n",
    "originTextInformation=float(0.0)\n",
    "for i in range(len(countText)):\n",
    "    if(countText[i]!=0):\n",
    "        originTextInformation+=math.log(1/countText[i])\n",
    "#end for\n",
    "print(originTextInformation)"
   ]
  },
  {
   "attachments": {},
   "cell_type": "markdown",
   "metadata": {},
   "source": [
    "### 畫圖"
   ]
  },
  {
   "cell_type": "code",
   "execution_count": 12,
   "metadata": {},
   "outputs": [
    {
     "data": {
      "image/png": "[encoded data removed]",
      "text/plain": [
       "<Figure size 640x480 with 1 Axes>"
      ]
     },
     "metadata": {},
     "output_type": "display_data"
    }
   ],
   "source": [
    "import matplotlib.pyplot as plt\n",
    "import numpy as np\n",
    "\n",
    "# 生成随机数据\n",
    "data = np.random.randn(1000)\n",
    "\n",
    "# 绘制直方图\n",
    "plt.hist(data, bins=30, color='green', alpha=0.8)\n",
    "plt.xlabel('Value')\n",
    "plt.ylabel('Frequency')\n",
    "plt.title('Histogram')\n",
    "\n",
    "# 显示图形\n",
    "plt.show()\n"
   ]
  },
  {
   "cell_type": "code",
   "execution_count": null,
   "metadata": {},
   "outputs": [],
   "source": [
    "test = countText.reshape(1,128)\n",
    "plotbins=np.arange(0,129,1)\n",
    "\n",
    "plt.hist(countText,bins=plotbins)\n",
    "\n",
    "\n"
   ]
  },
  {
   "cell_type": "code",
   "execution_count": 24,
   "metadata": {},
   "outputs": [
    {
     "data": {
      "image/png": "[encoded data removed]",
      "text/plain": [
       "<Figure size 640x480 with 1 Axes>"
      ]
     },
     "metadata": {},
     "output_type": "display_data"
    },
    {
     "name": "stdout",
     "output_type": "stream",
     "text": [
      "The information of origin text is :  378.4798889437224\n"
     ]
    }
   ],
   "source": [
    "x1 = range(0, 128)\n",
    "plt.bar(x1,cntTXTLIST)\n",
    "plt.title(\"Original Text Histogram\")\n",
    "plt.xlabel(\"ASCII Code\")\n",
    "plt.ylabel(\"Probability\")\n",
    "plt.show()\n",
    "print(\"The information of origin text is : \",originTextInformation)"
   ]
  },
  {
   "cell_type": "code",
   "execution_count": 29,
   "metadata": {},
   "outputs": [
    {
     "name": "stdout",
     "output_type": "stream",
     "text": [
      "THe information of shift text is  378.4798889437224\n"
     ]
    },
    {
     "data": {
      "image/png": "[encoded data removed]",
      "text/plain": [
       "<Figure size 640x480 with 1 Axes>"
      ]
     },
     "metadata": {},
     "output_type": "display_data"
    }
   ],
   "source": [
    "shiftText=readTextFile(\"..\\project3\\shiftText.txt\")\n",
    "shiftASCIIDec=[]\n",
    "#convert to binary\n",
    "for element in shiftText:\n",
    "    shiftASCIIDec.append(ord(element))\n",
    "#end for\n",
    "cnt=int(0)\n",
    "countShiftText=np.zeros(128)\n",
    "for i in range(len(shiftASCIIDec)):\n",
    "    cnt+=1\n",
    "    countShiftText[shiftASCIIDec[i]]+=1\n",
    "cntShiftTXTLIST=[]\n",
    "\n",
    "for i in range(len(countShiftText)):\n",
    "    countShiftText[i]=countShiftText[i]/cnt\n",
    "    cntShiftTXTLIST.append(countShiftText[i])\n",
    "\n",
    "shiftTextInformation=float(0.0)\n",
    "for i in range(len(countShiftText)):\n",
    "    if(countShiftText[i]!=0):\n",
    "        shiftTextInformation+=math.log(1/countShiftText[i])\n",
    "#end for\n",
    "print(\"THe information of shift text is \",shiftTextInformation)\n",
    "\n",
    "plt.bar(x1,cntShiftTXTLIST)\n",
    "plt.title(\"Shift Text Histogram\")\n",
    "plt.xlabel(\"ASCII Code\")\n",
    "plt.ylabel(\"Probability\")\n",
    "plt.show()"
   ]
  },
  {
   "cell_type": "markdown",
   "metadata": {},
   "source": []
  },
  {
   "attachments": {},
   "cell_type": "markdown",
   "metadata": {},
   "source": [
    "## 圖檔部分"
   ]
  },
  {
   "cell_type": "code",
   "execution_count": 39,
   "metadata": {},
   "outputs": [
    {
     "name": "stdout",
     "output_type": "stream",
     "text": [
      "[[159 159 158 ... 167 152 128]\n",
      " [160 158 158 ... 166 153 128]\n",
      " [159 159 159 ... 166 153 129]\n",
      " ...\n",
      " [ 53  52  60 ... 107 107 111]\n",
      " [ 52  53  61 ... 106 109 111]\n",
      " [123 126 132 ... 125 114  93]]\n",
      "[[163 163 162 ... 171 156 132]\n",
      " [164 162 162 ... 170 157 132]\n",
      " [163 163 163 ... 170 157 133]\n",
      " ...\n",
      " [ 57  56  64 ... 111 111 115]\n",
      " [ 56  57  65 ... 110 113 115]\n",
      " [127 130 136 ... 129 118  97]]\n"
     ]
    }
   ],
   "source": [
    "imgMatrix,HEIGHT,WIDTH=readIMGtopixel('..\\Img_File.bmp')\n",
    "print(imgMatrix)\n",
    "\n",
    "cntOriginalIMG=np.zeros(256)\n",
    "cntShiftIMG=np.zeros(256)\n",
    "totalPixel=HEIGHT*WIDTH\n",
    "shiftIMGMatrix=np.zeros(imgMatrix.shape,dtype=int)\n",
    "for i_vertical in range(HEIGHT):\n",
    "    for i_horizon in range(WIDTH):\n",
    "        num=imgMatrix[i_vertical][i_horizon]+4\n",
    "        cntOriginalIMG[imgMatrix[i_vertical][i_horizon]]+=1\n",
    "        if(num>255):\n",
    "            num-=256\n",
    "        shiftIMGMatrix[i_vertical][i_horizon]=num\n",
    "        cntShiftIMG[num]+=1\n",
    "\n",
    "print(shiftIMGMatrix)\n",
    "\n",
    "# 轉成機率\n",
    "for i_vertical in range(HEIGHT):\n",
    "    for i_horizon in range(WIDTH):\n",
    "        num=imgMatrix[i_vertical][i_horizon]+4\n",
    "        cntOriginalIMG[imgMatrix[i_vertical][i_horizon]]+=1\n",
    "        if(num>255):\n",
    "            num-=256\n",
    "        shiftIMGMatrix[i_vertical][i_horizon]=num\n",
    "        cntShiftIMG[num]+=1\n",
    "\n",
    "cntOrigIMGList=[]\n",
    "cntShiftIMGList=[]\n",
    "origIMGInf=float(0.0)\n",
    "shiftIMGInf=float(0.0)\n",
    "#將計算次數的陣列轉成list\n",
    "for i in range(256):\n",
    "    cntOriginalIMG[i]=cntOriginalIMG[i]/totalPixel\n",
    "    cntOrigIMGList.append(cntOriginalIMG[i])\n",
    "\n",
    "    cntShiftIMG[i]=cntShiftIMG[i]/totalPixel\n",
    "    cntShiftIMGList.append(cntShiftIMG[i])\n",
    "\n",
    "#計算Information\n",
    "for i in range(len(cntOriginalIMG)):\n",
    "    if(cntOriginalIMG[i]!=0):\n",
    "        origIMGInf+=math.log(1/cntOriginalIMG[i])\n",
    "\n",
    "for i in range(len(cntShiftIMG)):\n",
    "    if(cntShiftIMG[i]!=0):\n",
    "        shiftIMGInf+=math.log(1/cntShiftIMG[i])"
   ]
  },
  {
   "attachments": {},
   "cell_type": "markdown",
   "metadata": {},
   "source": [
    "### 計算圖像資訊量"
   ]
  },
  {
   "attachments": {},
   "cell_type": "markdown",
   "metadata": {},
   "source": [
    "### 針對圖的pixel畫histgram和"
   ]
  },
  {
   "cell_type": "code",
   "execution_count": 41,
   "metadata": {},
   "outputs": [
    {
     "data": {
      "image/png": "[encoded data removed]",
      "text/plain": [
       "<Figure size 640x480 with 1 Axes>"
      ]
     },
     "metadata": {},
     "output_type": "display_data"
    },
    {
     "name": "stdout",
     "output_type": "stream",
     "text": [
      "The information of origin picture is :  1043.1364656303888\n"
     ]
    }
   ],
   "source": [
    "x2 = range(0, 256)\n",
    "plt.bar(x2,cntOrigIMGList)\n",
    "plt.title(\"Original Picture Histogram\")\n",
    "plt.xlabel(\"ASCII Code\")\n",
    "plt.ylabel(\"Probability\")\n",
    "plt.show()\n",
    "print(\"The information of origin picture is : \",origIMGInf)"
   ]
  },
  {
   "cell_type": "code",
   "execution_count": 42,
   "metadata": {},
   "outputs": [
    {
     "data": {
      "image/png": "[encoded data removed]",
      "text/plain": [
       "<Figure size 640x480 with 1 Axes>"
      ]
     },
     "metadata": {},
     "output_type": "display_data"
    },
    {
     "name": "stdout",
     "output_type": "stream",
     "text": [
      "The information of shift picture is :  1043.1364656303888\n"
     ]
    }
   ],
   "source": [
    "plt.bar(x2,cntShiftIMGList)\n",
    "plt.title(\"Shift Picture Histogram\")\n",
    "plt.xlabel(\"ASCII Code\")\n",
    "plt.ylabel(\"Probability\")\n",
    "plt.show()\n",
    "print(\"The information of shift picture is : \",shiftIMGInf)"
   ]
  },
  {
   "attachments": {},
   "cell_type": "markdown",
   "metadata": {},
   "source": [
    "## one-time pad Encryption"
   ]
  },
  {
   "attachments": {},
   "cell_type": "markdown",
   "metadata": {},
   "source": [
    "### generate key"
   ]
  },
  {
   "cell_type": "code",
   "execution_count": 45,
   "metadata": {},
   "outputs": [
    {
     "name": "stdout",
     "output_type": "stream",
     "text": [
      "[ 31.  90.   6. 155. 176. 239.   9. 139. 136. 117.  61. 204.  92.  95.\n",
      " 195. 132.  54. 172. 101. 216.  33.  37.  32.  99. 154. 173.   3.  91.\n",
      " 247.  38. 112. 253.  53. 184. 228. 231. 204. 201. 129. 172.  61. 155.\n",
      " 147.  30. 198. 161. 200. 214.  31. 247.  22. 153.   8.  76.  64.  65.\n",
      " 226. 103.   9. 158. 185. 150. 110.  37.]\n"
     ]
    }
   ],
   "source": [
    "import random\n",
    "Key=np.zeros(64)\n",
    "for i in range(len(Key)):\n",
    "    Key[i]=random.randint(0,255)\n",
    "#end for\n",
    "print(Key)"
   ]
  },
  {
   "cell_type": "code",
   "execution_count": null,
   "metadata": {},
   "outputs": [],
   "source": [
    "#a^b=a XOR b\n",
    "#補足不足的部分\n",
    "for i in range(len(originASCIIDec)%64):\n",
    "    originASCIIDec.append(0)\n",
    "encryText=[]\n",
    "for i in range(len(originASCIIDec)):\n",
    "    encryText.append(Key[i%65]^originASCIIDec[i])"
   ]
  }
 ],
 "metadata": {
  "kernelspec": {
   "display_name": ".venv",
   "language": "python",
   "name": "python3"
  },
  "language_info": {
   "codemirror_mode": {
    "name": "ipython",
    "version": 3
   },
   "file_extension": ".py",
   "mimetype": "text/x-python",
   "name": "python",
   "nbconvert_exporter": "python",
   "pygments_lexer": "ipython3",
   "version": "3.11.3"
  },
  "orig_nbformat": 4
 },
 "nbformat": 4,
 "nbformat_minor": 2
}
