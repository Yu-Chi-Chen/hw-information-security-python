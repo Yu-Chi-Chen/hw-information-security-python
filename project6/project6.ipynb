{
 "cells": [
  {
   "attachments": {},
   "cell_type": "markdown",
   "metadata": {},
   "source": [
    "# 製作圖片浮水印\n",
    "#### 利用圖片的pixcel加浮水印"
   ]
  },
  {
   "cell_type": "code",
   "execution_count": 25,
   "metadata": {},
   "outputs": [],
   "source": [
    "import math\n",
    "\n",
    "def decimalTo7BitBinaryCode(num:int,length:int):\n",
    "    divisor=0\n",
    "    arrList=list()\n",
    "    arrList.clear()\n",
    "\n",
    "    dividend=num\n",
    "    ## 沒有寫floor會出錯\n",
    "    while(dividend/2!=0):\n",
    "            divisor+=1\n",
    "            dividend=math.floor(dividend/2)\n",
    "    ## end while\n",
    "\n",
    "    while(divisor>=0):\n",
    "        if(num>=math.pow(2,divisor)):\n",
    "                num-=math.pow(2,divisor)\n",
    "                divisor-=1\n",
    "                arrList.append('1')\n",
    "        else:\n",
    "                divisor-=1\n",
    "                arrList.append('0')\n",
    "            ##end if-else\n",
    "    ## end while\n",
    "\n",
    "\n",
    "    while(len(arrList)<length):\n",
    "        arrList.insert(0,0)\n",
    "    ## end while\n",
    "\n",
    "    binary_string: str = \"\"\n",
    "    for char_num in arrList:\n",
    "        binary_string = binary_string + str(char_num)\n",
    "\n",
    "    # str: str=\"\".join(arrList)\n",
    "    # if __name__=='_main_':\n",
    "    #     return str\n",
    "    \n",
    "    return binary_string\n",
    "##end define"
   ]
  },
  {
   "cell_type": "code",
   "execution_count": 2,
   "metadata": {},
   "outputs": [],
   "source": [
    "from PIL import Image\n",
    "import numpy as np\n",
    "\n",
    "def readIMGtopixel(path):\n",
    "    WIDTH=int(0)\n",
    "    HEIGHT=int(0)\n",
    "    img: Image =Image.open(path)\n",
    "    imgMatrix = np.array(Image.open(path).convert('L'),'i') #dtype=int\n",
    "    HEIGHT=int(img.height)\n",
    "    WIDTH=int(img.width)\n",
    "    return imgMatrix,HEIGHT,WIDTH\n",
    "#end def"
   ]
  },
  {
   "cell_type": "code",
   "execution_count": 3,
   "metadata": {},
   "outputs": [],
   "source": [
    "def readTextFile(path):\n",
    "    with open(path,'r') as f:\n",
    "        text=f.read()\n",
    "\n",
    "    return text"
   ]
  },
  {
   "attachments": {},
   "cell_type": "markdown",
   "metadata": {},
   "source": [
    "### Main"
   ]
  },
  {
   "attachments": {},
   "cell_type": "markdown",
   "metadata": {},
   "source": [
    "##### read file"
   ]
  },
  {
   "cell_type": "code",
   "execution_count": 4,
   "metadata": {},
   "outputs": [],
   "source": [
    "# text is a list for storing text file\n",
    "text=readTextFile(\"./../Txt_File .txt\")\n",
    "# img is a matrix for storing pixecl information for bmp file\n",
    "img,HEIGHT,WIDTH=readIMGtopixel(\"./../Img_File.bmp\")"
   ]
  },
  {
   "attachments": {},
   "cell_type": "markdown",
   "metadata": {},
   "source": [
    "#### convert text file and image file into 7 bit binary format"
   ]
  },
  {
   "cell_type": "code",
   "execution_count": 31,
   "metadata": {},
   "outputs": [],
   "source": [
    "text7BitBin=\"\"\n",
    "imgBin=np.zeros(img.shape,dtype=int)\n",
    "for i in range(len(text)):\n",
    "    temp=decimalTo7BitBinaryCode(ord(text[i]),7)\n",
    "    text7BitBin+=temp[1:]\n",
    "    \n",
    "\n",
    "for i_vertical in range(HEIGHT):\n",
    "    for i_horizontal in range(WIDTH):\n",
    "        imgBin[i_vertical][i_horizontal]=decimalTo7BitBinaryCode(int(img[i_vertical][i_horizontal]),8)"
   ]
  },
  {
   "attachments": {},
   "cell_type": "markdown",
   "metadata": {},
   "source": [
    "##### change last 3 bit for each pixcel"
   ]
  },
  {
   "cell_type": "code",
   "execution_count": 37,
   "metadata": {},
   "outputs": [],
   "source": [
    "text3BitStrList=[]\n",
    "while (len(text7BitBin)>3):\n",
    "    text3BitStrList.append(text7BitBin[:3])\n",
    "    text7BitBin=text7BitBin[3:]\n",
    "\n",
    "while(len(text7BitBin)<3):\n",
    "    text7BitBin+=\"0\"\n",
    "\n",
    "text3BitStrList.append(text7BitBin)\n"
   ]
  }
 ],
 "metadata": {
  "kernelspec": {
   "display_name": ".venv",
   "language": "python",
   "name": "python3"
  },
  "language_info": {
   "codemirror_mode": {
    "name": "ipython",
    "version": 3
   },
   "file_extension": ".py",
   "mimetype": "text/x-python",
   "name": "python",
   "nbconvert_exporter": "python",
   "pygments_lexer": "ipython3",
   "version": "3.11.3"
  },
  "orig_nbformat": 4
 },
 "nbformat": 4,
 "nbformat_minor": 2
}
