{
 "cells": [
  {
   "attachments": {},
   "cell_type": "markdown",
   "metadata": {},
   "source": [
    "# 製作圖片浮水印\n",
    "#### 利用圖片的pixcel加浮水印"
   ]
  },
  {
   "cell_type": "code",
   "execution_count": null,
   "metadata": {},
   "outputs": [],
   "source": [
    "import math\n",
    "\n",
    "def decimalTo7BitBinaryCode(num:int):\n",
    "    divisor=0\n",
    "    arrList=list()\n",
    "    arrList.clear()\n",
    "\n",
    "    dividend=num\n",
    "    ## 沒有寫floor會出錯\n",
    "    while(dividend/2!=0):\n",
    "            divisor+=1\n",
    "            dividend=math.floor(dividend/2)\n",
    "    ## end while\n",
    "\n",
    "    while(divisor>=0):\n",
    "        if(num>=math.pow(2,divisor)):\n",
    "                num-=math.pow(2,divisor)\n",
    "                divisor-=1\n",
    "                arrList.append('1')\n",
    "        else:\n",
    "                divisor-=1\n",
    "                arrList.append('0')\n",
    "            ##end if-else\n",
    "    ## end while\n",
    "\n",
    "\n",
    "    while(len(arrList)<7):\n",
    "        arrList.insert(0,0)\n",
    "    ## end while\n",
    "\n",
    "    binary_string: str = \"\"\n",
    "    for char_num in arrList:\n",
    "        binary_string = binary_string + str(char_num)\n",
    "\n",
    "    # str: str=\"\".join(arrList)\n",
    "    # if __name__=='_main_':\n",
    "    #     return str\n",
    "    \n",
    "    return binary_string\n",
    "##end define"
   ]
  },
  {
   "cell_type": "code",
   "execution_count": null,
   "metadata": {},
   "outputs": [],
   "source": [
    "from PIL import Image\n",
    "import numpy as np\n",
    "\n",
    "def readIMGtopixel(path):\n",
    "    WIDTH=int(0)\n",
    "    HEIGHT=int(0)\n",
    "    img: Image =Image.open(path)\n",
    "    imgMatrix = np.array(Image.open(path).convert('L'),'i') #dtype=int\n",
    "    HEIGHT=int(img.height)\n",
    "    WIDTH=int(img.width)\n",
    "    return imgMatrix,HEIGHT,WIDTH\n",
    "#end def"
   ]
  },
  {
   "cell_type": "code",
   "execution_count": null,
   "metadata": {},
   "outputs": [],
   "source": [
    "def readTextFile(path):\n",
    "    with open(path,'r') as f:\n",
    "        text=f.read()\n",
    "\n",
    "    return text"
   ]
  },
  {
   "attachments": {},
   "cell_type": "markdown",
   "metadata": {},
   "source": [
    "### Main"
   ]
  },
  {
   "attachments": {},
   "cell_type": "markdown",
   "metadata": {},
   "source": [
    "##### read file"
   ]
  },
  {
   "cell_type": "code",
   "execution_count": null,
   "metadata": {},
   "outputs": [],
   "source": [
    "# text is a list for storing text file\n",
    "text=readTextFile(\"./Txt_File.txt\")\n",
    "# img is a matrix for storing pixecl information for bmp file\n",
    "img,HEIGHT,WIDTH=readIMGtopixel(\"./Img_File.bmp\")"
   ]
  },
  {
   "attachments": {},
   "cell_type": "markdown",
   "metadata": {},
   "source": [
    "#### convert text file and image file into 7 bit binary format"
   ]
  },
  {
   "cell_type": "code",
   "execution_count": null,
   "metadata": {},
   "outputs": [],
   "source": [
    "text7BitBin=[]\n",
    "img7BitBin=np.zeros(HEIGHT,WIDTH)\n",
    "for i in range(len(text)):\n",
    "    text7BitBin.append(decimalTo7BitBinaryCode(text[i]))\n",
    "\n",
    "for i_vertical in range(HEIGHT):\n",
    "    for i_horizontal in range(WIDTH):\n",
    "        img7BitBin[i_vertical][i_horizontal]=decimalTo7BitBinaryCode(img[i_vertical][i_horizontal])"
   ]
  },
  {
   "attachments": {},
   "cell_type": "markdown",
   "metadata": {},
   "source": [
    "##### change last 3 bit for each pixcel"
   ]
  },
  {
   "cell_type": "code",
   "execution_count": null,
   "metadata": {},
   "outputs": [],
   "source": []
  }
 ],
 "metadata": {
  "language_info": {
   "name": "python"
  },
  "orig_nbformat": 4
 },
 "nbformat": 4,
 "nbformat_minor": 2
}
