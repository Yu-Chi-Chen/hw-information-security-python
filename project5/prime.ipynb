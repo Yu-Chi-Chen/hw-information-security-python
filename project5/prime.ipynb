{
 "cells": [
  {
   "attachments": {},
   "cell_type": "markdown",
   "metadata": {},
   "source": [
    "# Judge whether the number is prime"
   ]
  },
  {
   "cell_type": "code",
   "execution_count": 4,
   "metadata": {},
   "outputs": [],
   "source": [
    "import math"
   ]
  },
  {
   "cell_type": "code",
   "execution_count": 5,
   "metadata": {},
   "outputs": [],
   "source": [
    "num=input(\"Please enter the Number: \")\n",
    "num=int(num)"
   ]
  },
  {
   "cell_type": "code",
   "execution_count": 6,
   "metadata": {},
   "outputs": [
    {
     "name": "stdout",
     "output_type": "stream",
     "text": [
      "123456789 is a Prime.\n"
     ]
    }
   ],
   "source": [
    "sq=math.sqrt(num)\n",
    "flag=int(0)\n",
    "for i in range(2,int(sq)):\n",
    "    if(num%i):\n",
    "        flag=int(1)\n",
    "        break\n",
    "\n",
    "if(flag):\n",
    "    print(\"%d is a Prime.\" %num)\n",
    "else:\n",
    "    print(\"%d is not a Prime.\" %num)"
   ]
  }
 ],
 "metadata": {
  "kernelspec": {
   "display_name": ".venv",
   "language": "python",
   "name": "python3"
  },
  "language_info": {
   "codemirror_mode": {
    "name": "ipython",
    "version": 3
   },
   "file_extension": ".py",
   "mimetype": "text/x-python",
   "name": "python",
   "nbconvert_exporter": "python",
   "pygments_lexer": "ipython3",
   "version": "3.11.3"
  },
  "orig_nbformat": 4
 },
 "nbformat": 4,
 "nbformat_minor": 2
}
