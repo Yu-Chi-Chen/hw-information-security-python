{
 "cells": [
  {
   "attachments": {},
   "cell_type": "markdown",
   "metadata": {},
   "source": [
    "# 對數值質因數分解"
   ]
  },
  {
   "cell_type": "code",
   "execution_count": 14,
   "metadata": {},
   "outputs": [],
   "source": [
    "import math"
   ]
  },
  {
   "cell_type": "code",
   "execution_count": 15,
   "metadata": {},
   "outputs": [],
   "source": [
    "def judgePrime(input):\n",
    "    flag=int(1)\n",
    "    for i in range(2,int(input)):\n",
    "        if((input%i)==0):\n",
    "            flag=int(0)\n",
    "            break\n",
    "\n",
    "    return flag"
   ]
  },
  {
   "cell_type": "code",
   "execution_count": 16,
   "metadata": {},
   "outputs": [],
   "source": [
    "num=input(\"Please enter the number: \")\n",
    "num=int(num)\n",
    "initialValue=num"
   ]
  },
  {
   "cell_type": "code",
   "execution_count": 17,
   "metadata": {},
   "outputs": [],
   "source": [
    "primeList=[]\n",
    "#CREATE PRIME LIST\n",
    "for i in range(2,math.ceil(math.sqrt(num))+1):\n",
    "    if(judgePrime(i)==1):\n",
    "        primeList.append(i)"
   ]
  },
  {
   "cell_type": "code",
   "execution_count": 18,
   "metadata": {},
   "outputs": [],
   "source": [
    "factorList=[]\n",
    "index=int(0)\n",
    "while(num!=1):\n",
    "    cnt=int(0)\n",
    "    while((num%primeList[index])==0):\n",
    "        cnt+=1\n",
    "        num/=primeList[index]\n",
    "    \n",
    "    factorList.append(cnt)\n",
    "    cnt=int(0)\n",
    "    index+=1\n"
   ]
  },
  {
   "cell_type": "code",
   "execution_count": 19,
   "metadata": {},
   "outputs": [
    {
     "name": "stdout",
     "output_type": "stream",
     "text": [
      "123456789=3**2+3607**1+3803**1\n"
     ]
    }
   ],
   "source": [
    "string=str(initialValue)+\"=\"\n",
    "for i in range(len(factorList)):\n",
    "    if(factorList[i]!=0):\n",
    "        string+=str(primeList[i])+\"**\"+str(factorList[i])+\"+\"\n",
    "    \n",
    "    if(i==(len(factorList)-1)):\n",
    "        string=string[:-1]\n",
    "\n",
    "print(string)"
   ]
  }
 ],
 "metadata": {
  "kernelspec": {
   "display_name": ".venv",
   "language": "python",
   "name": "python3"
  },
  "language_info": {
   "codemirror_mode": {
    "name": "ipython",
    "version": 3
   },
   "file_extension": ".py",
   "mimetype": "text/x-python",
   "name": "python",
   "nbconvert_exporter": "python",
   "pygments_lexer": "ipython3",
   "version": "3.11.3"
  },
  "orig_nbformat": 4
 },
 "nbformat": 4,
 "nbformat_minor": 2
}
