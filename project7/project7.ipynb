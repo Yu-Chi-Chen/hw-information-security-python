{
 "cells": [
  {
   "attachments": {},
   "cell_type": "markdown",
   "metadata": {},
   "source": [
    "# Project7 \n",
    "### 3 bit/4 bit/5 bit LSB\n",
    "### caculate each bit of PSNR"
   ]
  },
  {
   "cell_type": "code",
   "execution_count": 1,
   "metadata": {},
   "outputs": [],
   "source": [
    "import math\n",
    "\n",
    "def decimalToBinaryCode(num:int):\n",
    "    divisor=0\n",
    "    arrList=list()\n",
    "    arrList.clear()\n",
    "\n",
    "    dividend=num\n",
    "    ## 沒有寫floor會出錯\n",
    "    while(dividend/2!=0):\n",
    "            divisor+=1\n",
    "            dividend=math.floor(dividend/2)\n",
    "    ## end while\n",
    "\n",
    "    while(divisor>=0):\n",
    "        if(num>=math.pow(2,divisor)):\n",
    "                num-=math.pow(2,divisor)\n",
    "                divisor-=1\n",
    "                arrList.append('1')\n",
    "        else:\n",
    "                divisor-=1\n",
    "                arrList.append('0')\n",
    "            ##end if-else\n",
    "    ## end while\n",
    "\n",
    "\n",
    "    while(len(arrList)<8):\n",
    "        arrList.insert(0,0)\n",
    "    ## end while\n",
    "\n",
    "    binary_string: str = \"\"\n",
    "    for char_num in arrList:\n",
    "        binary_string = binary_string + str(char_num)\n",
    "    \n",
    "    return binary_string\n",
    "##end define"
   ]
  },
  {
   "cell_type": "code",
   "execution_count": 2,
   "metadata": {},
   "outputs": [],
   "source": [
    "def binaryToDecimal(string:str):\n",
    "    num=int(string)\n",
    "    dec:int=0\n",
    "    for i in range (len(string)):\n",
    "        if((num%10)==1):\n",
    "            dec+=math.pow(2,i)\n",
    "        \n",
    "        num=int(num/10)\n",
    "    #end for\n",
    "    return dec "
   ]
  },
  {
   "attachments": {},
   "cell_type": "markdown",
   "metadata": {},
   "source": [
    "##### readIMGpixel"
   ]
  },
  {
   "cell_type": "code",
   "execution_count": 3,
   "metadata": {},
   "outputs": [],
   "source": [
    "from PIL import Image\n",
    "import numpy as np\n",
    "\n",
    "def readIMGtopixel(path):\n",
    "    WIDTH=int(0)\n",
    "    HEIGHT=int(0)\n",
    "    img: Image =Image.open(path)\n",
    "    imgMatrix = np.array(Image.open(path).convert('L'),'i') #dtype=int\n",
    "    HEIGHT=int(img.height)\n",
    "    WIDTH=int(img.width)\n",
    "    return imgMatrix,HEIGHT,WIDTH\n",
    "#end def"
   ]
  },
  {
   "cell_type": "code",
   "execution_count": 4,
   "metadata": {},
   "outputs": [],
   "source": [
    "def readTextFile(path):\n",
    "    with open(path,'r') as f:\n",
    "        text=f.read()\n",
    "\n",
    "    return text"
   ]
  },
  {
   "cell_type": "code",
   "execution_count": 5,
   "metadata": {},
   "outputs": [],
   "source": [
    "def writeTextFile(path,string):\n",
    "    with open(path,'w') as f:\n",
    "        f.write(string)\n",
    "    "
   ]
  },
  {
   "attachments": {},
   "cell_type": "markdown",
   "metadata": {},
   "source": [
    "#### Main"
   ]
  },
  {
   "cell_type": "code",
   "execution_count": 6,
   "metadata": {},
   "outputs": [],
   "source": [
    "# read original text and bmp file\n",
    "originalText=readTextFile(\"./../Txt_File .txt\")\n",
    "originalIMG,HEIGHT,WIDTH=readIMGtopixel(\"./../Img_File.bmp\")"
   ]
  },
  {
   "cell_type": "code",
   "execution_count": 7,
   "metadata": {},
   "outputs": [],
   "source": [
    "#convert text to 7 bit binary code\n",
    "textToBin=\"\"\n",
    "for element in originalText:\n",
    "    #temp would be 8 bit from decimalToBinaryCode\n",
    "    temp:str=decimalToBinaryCode(ord(element))\n",
    "    textToBin+=temp[1:]\n"
   ]
  },
  {
   "cell_type": "code",
   "execution_count": 8,
   "metadata": {},
   "outputs": [],
   "source": [
    "writeTextFile(\"./textConvertTo7bitBin.txt\",textToBin)"
   ]
  },
  {
   "cell_type": "code",
   "execution_count": 9,
   "metadata": {},
   "outputs": [],
   "source": [
    "def splitTxtByBit(BITLENTH:int,originalBinary:str):\n",
    "    binary=originalBinary\n",
    "    bitList=[]\n",
    "    while(len(binary)>BITLENTH):\n",
    "        temp=binary[0:BITLENTH]\n",
    "        bitList.append(temp)\n",
    "        binary=binary[BITLENTH:]\n",
    "\n",
    "    #when the last less than BITLENTH\n",
    "    while(len(binary)<BITLENTH):\n",
    "        binary+=\"0\"\n",
    "\n",
    "    #append last to List \n",
    "    bitList.append(binary)\n",
    "    #append 0 to mark file end\n",
    "    zeroString:str=\"\"\n",
    "    while(len(zeroString)<BITLENTH):\n",
    "        zeroString+=\"0\"\n",
    "\n",
    "    bitList.append(zeroString)\n",
    "    bitList.append(zeroString)\n",
    "    bitList.append(zeroString)\n",
    "\n",
    "    return bitList"
   ]
  },
  {
   "cell_type": "code",
   "execution_count": 10,
   "metadata": {},
   "outputs": [],
   "source": [
    "threeBitList=splitTxtByBit(3,textToBin)\n",
    "fourBitList=splitTxtByBit(4,textToBin)\n",
    "fiveBitList=splitTxtByBit(5,textToBin)"
   ]
  },
  {
   "cell_type": "code",
   "execution_count": 11,
   "metadata": {},
   "outputs": [
    {
     "name": "stdout",
     "output_type": "stream",
     "text": [
      "[[10011111 10011111 10011110 ... 10100111 10011000 10000000]\n",
      " [10100000 10011110 10011110 ... 10100110 10011001 10000000]\n",
      " [10011111 10011111 10011111 ... 10100110 10011001 10000001]\n",
      " ...\n",
      " [  110101   110100   111100 ...  1101011  1101011  1101111]\n",
      " [  110100   110101   111101 ...  1101010  1101101  1101111]\n",
      " [ 1111011  1111110 10000100 ...  1111101  1110010  1011101]]\n"
     ]
    }
   ],
   "source": [
    "#convert original pixcel value from decimal to binary\n",
    "imgBin=np.zeros(originalIMG.shape,dtype=int)\n",
    "for i_vertical in range(HEIGHT):\n",
    "    for i_horizontal in range(WIDTH):\n",
    "        imgBin[i_vertical][i_horizontal]=decimalToBinaryCode(int(originalIMG[i_vertical][i_horizontal]))\n",
    "\n",
    "print(imgBin)"
   ]
  },
  {
   "cell_type": "code",
   "execution_count": 12,
   "metadata": {},
   "outputs": [
    {
     "name": "stdout",
     "output_type": "stream",
     "text": [
      "[[10011101 10011010 10011011 ... 10100101 10011001 10000110]\n",
      " [10100111 10011011 10011000 ... 10100110 10011010 10000000]\n",
      " [10011011 10011100 10011111 ... 10100110 10011111 10000001]\n",
      " ...\n",
      " [  110110   110100   111110 ...  1101010  1101001  1101100]\n",
      " [  110101   110010   111000 ...  1101011  1101110  1101011]\n",
      " [ 1111111  1111010 10000011 ...  1111101  1110001  1011110]]\n"
     ]
    }
   ],
   "source": [
    "#remove last three bit and add information\n",
    "cnt:int = 0\n",
    "threebit_img=imgBin.copy()\n",
    "for i_vertical in range(HEIGHT):\n",
    "    for i_horizontal in range(WIDTH):\n",
    "        tempString=threebit_img[i_vertical][i_horizontal]# get pixcel's 8 bit binary code\n",
    "        tempString=str(tempString) #change its dtype from int32 to string\n",
    "        tempString=tempString[:-3]+str(threeBitList[cnt]) # discard last 3 bit of pixcel and combine 3 bit from text file\n",
    "        tempString=int(tempString) #change dtype of combined string from string to int\n",
    "        cnt+=1\n",
    "        threebit_img[i_vertical][i_horizontal]=tempString # store result\n",
    "        if(cnt==len(threeBitList)-1):\n",
    "            cnt=0\n",
    "    if(cnt==len(threeBitList)-1):\n",
    "        cnt=0\n",
    "\n",
    "print(threebit_img)"
   ]
  },
  {
   "cell_type": "code",
   "execution_count": 13,
   "metadata": {},
   "outputs": [
    {
     "name": "stdout",
     "output_type": "stream",
     "text": [
      "[[10011010 10011001 10011010 ... 10100110 10011000 10001100]\n",
      " [10101010 10011000 10010011 ... 10100010 10011110 10001000]\n",
      " [10011000 10010010 10011001 ... 10100101 10011000 10001000]\n",
      " ...\n",
      " [  110000   111110   111001 ...  1101000  1100010  1101010]\n",
      " [  111110   111110   111101 ...  1100001  1101011  1101011]\n",
      " [ 1110101  1110110 10000000 ...  1110110  1110010  1010000]]\n"
     ]
    }
   ],
   "source": [
    "#remove last four bit and add information\n",
    "cnt:int = 0\n",
    "fourbit_img=imgBin.copy()\n",
    "for i_vertical in range(HEIGHT):\n",
    "    for i_horizontal in range(WIDTH):\n",
    "        tempString=fourbit_img[i_vertical][i_horizontal]# get pixcel's 8 bit binary code\n",
    "        tempString=str(tempString) #change its dtype from int32 to string\n",
    "        tempString=tempString[:-4]+str(fourBitList[cnt]) # discard last 3 bit of pixcel and combine 3 bit from text file\n",
    "        tempString=int(tempString) #change dtype of combined string from string to int\n",
    "        cnt+=1\n",
    "        fourbit_img[i_vertical][i_horizontal]=tempString # store result\n",
    "        if(cnt==len(fourBitList)-1):\n",
    "            cnt=0\n",
    "    if(cnt==len(fourBitList)-1):\n",
    "        cnt=0\n",
    "\n",
    "print(fourbit_img)"
   ]
  },
  {
   "cell_type": "code",
   "execution_count": 14,
   "metadata": {},
   "outputs": [
    {
     "name": "stdout",
     "output_type": "stream",
     "text": [
      "[[10010101 10000110 10010001 ... 10110111 10010010 10001000]\n",
      " [10100011 10000010 10011100 ... 10101110 10011001 10011010]\n",
      " [10000001 10011010 10001110 ... 10111010 10001110 10011000]\n",
      " ...\n",
      " [  111001   101110   100011 ...  1111010  1101110  1111111]\n",
      " [  110111   100100   100011 ...  1100111  1100101  1111100]\n",
      " [ 1110100  1100011 10010100 ...  1101011  1111001  1010100]]\n"
     ]
    }
   ],
   "source": [
    "#remove last five bit and add information\n",
    "cnt:int = 0\n",
    "fivebit_img=imgBin.copy()\n",
    "for i_vertical in range(HEIGHT):\n",
    "    for i_horizontal in range(WIDTH):\n",
    "        tempString=fourbit_img[i_vertical][i_horizontal]# get pixcel's 8 bit binary code\n",
    "        tempString=str(tempString) #change its dtype from int32 to string\n",
    "        tempString=tempString[:-5]+str(fiveBitList[cnt]) # discard last 3 bit of pixcel and combine 3 bit from text file\n",
    "        tempString=int(tempString) #change dtype of combined string from string to int\n",
    "        cnt+=1\n",
    "        fivebit_img[i_vertical][i_horizontal]=tempString # store result\n",
    "        if(cnt==len(fiveBitList)-1):\n",
    "            cnt=0\n",
    "    if(cnt==len(fiveBitList)-1):\n",
    "        cnt=0\n",
    "\n",
    "print(fivebit_img)\n"
   ]
  },
  {
   "attachments": {},
   "cell_type": "markdown",
   "metadata": {},
   "source": [
    "#### convert pixcel from binary to decimal"
   ]
  },
  {
   "cell_type": "code",
   "execution_count": 15,
   "metadata": {},
   "outputs": [
    {
     "name": "stdout",
     "output_type": "stream",
     "text": [
      "[[157 154 155 ... 165 153 134]\n",
      " [167 155 152 ... 166 154 128]\n",
      " [155 156 159 ... 166 159 129]\n",
      " ...\n",
      " [ 54  52  62 ... 106 105 108]\n",
      " [ 53  50  56 ... 107 110 107]\n",
      " [127 122 131 ... 125 113  94]]\n",
      "[[154 153 154 ... 166 152 140]\n",
      " [170 152 147 ... 162 158 136]\n",
      " [152 146 153 ... 165 152 136]\n",
      " ...\n",
      " [ 48  62  57 ... 104  98 106]\n",
      " [ 62  62  61 ...  97 107 107]\n",
      " [117 118 128 ... 118 114  80]]\n",
      "[[149 134 145 ... 183 146 136]\n",
      " [163 130 156 ... 174 153 154]\n",
      " [129 154 142 ... 186 142 152]\n",
      " ...\n",
      " [ 57  46  35 ... 122 110 127]\n",
      " [ 55  36  35 ... 103 101 124]\n",
      " [116  99 148 ... 107 121  84]]\n"
     ]
    }
   ],
   "source": [
    "for i_vertical in range(HEIGHT):\n",
    "    for i_horizontal in range(WIDTH):\n",
    "        threebit_img[i_vertical][i_horizontal]=binaryToDecimal(str(threebit_img[i_vertical][i_horizontal]))\n",
    "\n",
    "print(threebit_img)\n",
    "for i_vertical in range(HEIGHT):\n",
    "    for i_horizontal in range(WIDTH):\n",
    "        fourbit_img[i_vertical][i_horizontal]=binaryToDecimal(str(fourbit_img[i_vertical][i_horizontal]))\n",
    "\n",
    "print(fourbit_img)\n",
    "for i_vertical in range(HEIGHT):\n",
    "    for i_horizontal in range(WIDTH):\n",
    "        fivebit_img[i_vertical][i_horizontal]=binaryToDecimal(str(fivebit_img[i_vertical][i_horizontal]))\n",
    "\n",
    "print(fivebit_img)"
   ]
  },
  {
   "attachments": {},
   "cell_type": "markdown",
   "metadata": {},
   "source": [
    "#### 寫成圖檔"
   ]
  },
  {
   "cell_type": "code",
   "execution_count": 16,
   "metadata": {},
   "outputs": [],
   "source": [
    "output3Bit=Image.fromarray(threebit_img)\n",
    "output3Bit=output3Bit.convert('L')\n",
    "output3Bit.save(\".\\output3bit.bmp\")\n",
    "output3Bit.show()\n",
    "\n",
    "output4Bit=Image.fromarray(fourbit_img)\n",
    "output4Bit=output4Bit.convert('L')\n",
    "output4Bit.save(\".\\output4bit.bmp\")\n",
    "output4Bit.show()\n",
    "\n",
    "output5Bit=Image.fromarray(fivebit_img)\n",
    "output5Bit=output5Bit.convert('L')\n",
    "output5Bit.save(\".\\output5bit.bmp\")\n",
    "output5Bit.show()"
   ]
  },
  {
   "attachments": {},
   "cell_type": "markdown",
   "metadata": {},
   "source": [
    "## PSNR\n"
   ]
  },
  {
   "cell_type": "code",
   "execution_count": 17,
   "metadata": {},
   "outputs": [
    {
     "name": "stdout",
     "output_type": "stream",
     "text": [
      "MSE3 : 10.587913513183594\n",
      "MSE4 : 42.52855682373047\n",
      "MSE5 : 173.88193130493164\n"
     ]
    }
   ],
   "source": [
    "#caculate MSE\n",
    "MSE3:int=0\n",
    "MSE4:int=0\n",
    "MSE5:int=0\n",
    "for i in range(HEIGHT):\n",
    "    for j in range(WIDTH):\n",
    "        MSE3+=(originalIMG[i][j]-threebit_img[i][j])**2\n",
    "        MSE4+=(originalIMG[i][j]-fourbit_img[i][j])**2\n",
    "        MSE5+=(originalIMG[i][j]-fivebit_img[i][j])**2\n",
    "\n",
    "MSE3=MSE3/(512**2)\n",
    "MSE4=MSE4/(512**2)\n",
    "MSE5=MSE5/(512**2)\n",
    "print(\"MSE3 : \"+str(MSE3))\n",
    "print(\"MSE4 : \"+str(MSE4))\n",
    "print(\"MSE5 : \"+str(MSE5))"
   ]
  },
  {
   "cell_type": "code",
   "execution_count": 18,
   "metadata": {},
   "outputs": [
    {
     "name": "stdout",
     "output_type": "stream",
     "text": [
      "PSNR of 3 bit bmp file is 43.93729536819567 dB\n",
      "PSNR of 4 bit bmp file is 37.89859276461351 dB\n",
      "PSNR of 5 bit bmp file is 31.782854667014572 dB\n"
     ]
    }
   ],
   "source": [
    "#caculate PSNR\n",
    "# the bigger the value of PSNR is, the more loss of image is. \n",
    "PSNR3:int=0.0\n",
    "PSNR4:int=0.0\n",
    "PSNR5:int=0.0\n",
    "PSNR3=10*math.log(512*512/MSE3,10)\n",
    "PSNR4=10*math.log(512*512/MSE4,10)\n",
    "PSNR5=10*math.log(512*512/MSE5,10)\n",
    "print(\"PSNR of 3 bit bmp file is \"+str(PSNR3)+\" dB\")\n",
    "print(\"PSNR of 4 bit bmp file is \"+str(PSNR4)+\" dB\")\n",
    "print(\"PSNR of 5 bit bmp file is \"+str(PSNR5)+\" dB\")"
   ]
  }
 ],
 "metadata": {
  "kernelspec": {
   "display_name": ".venv",
   "language": "python",
   "name": "python3"
  },
  "language_info": {
   "codemirror_mode": {
    "name": "ipython",
    "version": 3
   },
   "file_extension": ".py",
   "mimetype": "text/x-python",
   "name": "python",
   "nbconvert_exporter": "python",
   "pygments_lexer": "ipython3",
   "version": "3.11.3"
  },
  "orig_nbformat": 4
 },
 "nbformat": 4,
 "nbformat_minor": 2
}
