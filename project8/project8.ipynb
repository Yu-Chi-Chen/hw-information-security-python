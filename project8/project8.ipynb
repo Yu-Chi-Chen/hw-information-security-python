{
 "cells": [
  {
   "attachments": {},
   "cell_type": "markdown",
   "metadata": {},
   "source": [
    "# RSA Scheme"
   ]
  },
  {
   "attachments": {},
   "cell_type": "markdown",
   "metadata": {},
   "source": [
    "###### 質數p和q，得到n=p*q\n",
    "###### 初歐拉函數 r= (p-1)(n-1)\n",
    "###### 隨機選擇e，所以公鑰是{e,n}\n",
    "###### 計算D值，所以私鑰是{d,n}\n"
   ]
  },
  {
   "cell_type": "code",
   "execution_count": 7,
   "metadata": {},
   "outputs": [],
   "source": [
    "P:int=5\n",
    "Q:int=11\n",
    "E:int=13"
   ]
  },
  {
   "attachments": {},
   "cell_type": "markdown",
   "metadata": {},
   "source": [
    "#### Case 1 M=18,C=?"
   ]
  },
  {
   "cell_type": "code",
   "execution_count": 9,
   "metadata": {},
   "outputs": [
    {
     "name": "stdout",
     "output_type": "stream",
     "text": [
      "N = 55\n",
      "r = 40\n",
      "d = 1\n"
     ]
    }
   ],
   "source": [
    "#Step 1 caculate N\n",
    "N:int=P*Q\n",
    "#Step 2 get r\n",
    "r=(P-1)*(Q-1)\n",
    "#Step 3 get d\n",
    "#(e*d)%r=1\n",
    "e:int=13\n",
    "\n",
    "print(\"N = \"+str(N))\n",
    "print(\"r = \"+str(r))\n",
    "\n"
   ]
  },
  {
   "cell_type": "code",
   "execution_count": 11,
   "metadata": {},
   "outputs": [
    {
     "name": "stdout",
     "output_type": "stream",
     "text": [
      "13\n"
     ]
    }
   ],
   "source": [
    "C:int=0\n",
    "M:int =18\n",
    "C=(M**e)%N\n",
    "print(C)"
   ]
  },
  {
   "attachments": {},
   "cell_type": "markdown",
   "metadata": {},
   "source": [
    "### Case 2 C=20, M=?\n",
    "##### C^d(mod N)等價M\n",
    "##### e*d%r=1=>可以求d"
   ]
  },
  {
   "cell_type": "code",
   "execution_count": 17,
   "metadata": {},
   "outputs": [
    {
     "name": "stdout",
     "output_type": "stream",
     "text": [
      "37\n",
      "15\n"
     ]
    }
   ],
   "source": [
    "d:int=1\n",
    "C=20\n",
    "while(e*d%r!=1):\n",
    "    d+=1\n",
    "\n",
    "print(d)\n",
    "M=(C**d)%N\n",
    "print(M)"
   ]
  }
 ],
 "metadata": {
  "kernelspec": {
   "display_name": ".venv",
   "language": "python",
   "name": "python3"
  },
  "language_info": {
   "codemirror_mode": {
    "name": "ipython",
    "version": 3
   },
   "file_extension": ".py",
   "mimetype": "text/x-python",
   "name": "python",
   "nbconvert_exporter": "python",
   "pygments_lexer": "ipython3",
   "version": "3.11.3"
  },
  "orig_nbformat": 4
 },
 "nbformat": 4,
 "nbformat_minor": 2
}
