{
 "cells": [
  {
   "attachments": {},
   "cell_type": "markdown",
   "metadata": {},
   "source": [
    "### 將十進制轉成二進制函式\n",
    "###### 輸入int 輸出 string"
   ]
  },
  {
   "cell_type": "code",
   "execution_count": 1,
   "metadata": {},
   "outputs": [],
   "source": [
    "import math\n",
    "\n",
    "def decimalToBinary(num:int):\n",
    "    divisor=0\n",
    "    arrList=list()\n",
    "    arrList.clear()\n",
    "\n",
    "    dividend=num\n",
    "    ## 沒有寫floor會出錯\n",
    "    while(dividend/2!=0):\n",
    "            divisor+=1\n",
    "            dividend=math.floor(dividend/2)\n",
    "    ## end while\n",
    "\n",
    "    while(divisor>=0):\n",
    "        if(num>=math.pow(2,divisor)):\n",
    "                num-=math.pow(2,divisor)\n",
    "                divisor-=1\n",
    "                arrList.append('1')\n",
    "        else:\n",
    "                divisor-=1\n",
    "                arrList.append('0')\n",
    "            ##end if-else\n",
    "    ## end while\n",
    "\n",
    "\n",
    "    while(len(arrList)<8):\n",
    "        arrList.insert(0,0)\n",
    "    ## end while\n",
    "\n",
    "    binary_string: str = \"\"\n",
    "    for char_num in arrList:\n",
    "        binary_string = binary_string + str(char_num)\n",
    "\n",
    "    # str: str=\"\".join(arrList)\n",
    "    # if __name__=='_main_':\n",
    "    #     return str\n",
    "    \n",
    "    return binary_string\n",
    "##end define"
   ]
  },
  {
   "cell_type": "code",
   "execution_count": 2,
   "metadata": {},
   "outputs": [],
   "source": [
    "from PIL import Image\n",
    "import numpy as np\n",
    "\n",
    "WIDTH=int(0)\n",
    "HEIGHT=int(0)\n",
    "def readIMGtopixel(path):\n",
    "    img: Image =Image.open(path)\n",
    "    imgMatrix = np.array(Image.open(path).convert('L'),'i') #dtype=int\n",
    "    HEIGHT=int(img.height)\n",
    "    WIDTH=int(img.width)\n",
    "    return imgMatrix\n",
    "#end def"
   ]
  },
  {
   "cell_type": "code",
   "execution_count": 3,
   "metadata": {},
   "outputs": [
    {
     "name": "stdout",
     "output_type": "stream",
     "text": [
      "[[159 159 158 ... 167 152 128]\n",
      " [160 158 158 ... 166 153 128]\n",
      " [159 159 159 ... 166 153 129]\n",
      " ...\n",
      " [ 53  52  60 ... 107 107 111]\n",
      " [ 52  53  61 ... 106 109 111]\n",
      " [123 126 132 ... 125 114  93]]\n"
     ]
    }
   ],
   "source": [
    "img=readIMGtopixel(\"Img_File.bmp\") #img : matrix\n",
    "print(img)"
   ]
  },
  {
   "cell_type": "code",
   "execution_count": 4,
   "metadata": {},
   "outputs": [
    {
     "name": "stdout",
     "output_type": "stream",
     "text": [
      "[[10011111 10011111 10011110 ... 10100111 10011000 10000000]\n",
      " [10100000 10011110 10011110 ... 10100110 10011001 10000000]\n",
      " [10011111 10011111 10011111 ... 10100110 10011001 10000001]\n",
      " ...\n",
      " [  110101   110100   111100 ...  1101011  1101011  1101111]\n",
      " [  110100   110101   111101 ...  1101010  1101101  1101111]\n",
      " [ 1111011  1111110 10000100 ...  1111101  1110010  1011101]]\n"
     ]
    }
   ],
   "source": [
    "width,height=img.shape\n",
    "binMatrix=np.zeros((width,height),dtype=int)\n",
    "for i_vertical in range(height):\n",
    "    for i_horizen in range (width):\n",
    "        temp=decimalToBinary(img[i_vertical][i_horizen])\n",
    "        binMatrix[i_vertical][i_horizen]=temp\n",
    "#end for\n",
    "\n",
    "print(binMatrix)\n",
    "        "
   ]
  },
  {
   "cell_type": "code",
   "execution_count": 32,
   "metadata": {},
   "outputs": [],
   "source": [
    "def binaryToDecimal(num):\n",
    "    temp=num\n",
    "    dec=int(0)\n",
    "    for i in range (len(str(num))):\n",
    "        if((temp%10)==1):\n",
    "            dec+=math.pow(2,i)\n",
    "        \n",
    "        temp=int(temp/10)\n",
    "    #end for\n",
    "    return dec;"
   ]
  },
  {
   "cell_type": "code",
   "execution_count": 33,
   "metadata": {},
   "outputs": [
    {
     "name": "stdout",
     "output_type": "stream",
     "text": [
      "[[159 159 158 ... 167 152 128]\n",
      " [160 158 158 ... 166 153 128]\n",
      " [159 159 159 ... 166 153 129]\n",
      " ...\n",
      " [ 53  52  60 ... 107 107 111]\n",
      " [ 52  53  61 ... 106 109 111]\n",
      " [123 126 132 ... 125 114  93]]\n"
     ]
    }
   ],
   "source": [
    "convertBackMatrix=np.zeros((width,height),dtype=int)\n",
    "for i_vertical in range(height):\n",
    "    for i_horizen in range (width):\n",
    "        convertBackMatrix[i_vertical][i_horizen]=binaryToDecimal(binMatrix[i_vertical][i_horizen])\n",
    "#end for\n",
    "print(convertBackMatrix)"
   ]
  },
  {
   "attachments": {},
   "cell_type": "markdown",
   "metadata": {},
   "source": [
    "# 嘗試將矩陣轉成圖檔"
   ]
  },
  {
   "cell_type": "code",
   "execution_count": 35,
   "metadata": {},
   "outputs": [],
   "source": [
    "converBackIMG=Image.fromarray(convertBackMatrix)\n",
    "converBackIMG.show()"
   ]
  }
 ],
 "metadata": {
  "kernelspec": {
   "display_name": ".venv",
   "language": "python",
   "name": "python3"
  },
  "language_info": {
   "codemirror_mode": {
    "name": "ipython",
    "version": 3
   },
   "file_extension": ".py",
   "mimetype": "text/x-python",
   "name": "python",
   "nbconvert_exporter": "python",
   "pygments_lexer": "ipython3",
   "version": "3.11.3"
  },
  "orig_nbformat": 4
 },
 "nbformat": 4,
 "nbformat_minor": 2
}
