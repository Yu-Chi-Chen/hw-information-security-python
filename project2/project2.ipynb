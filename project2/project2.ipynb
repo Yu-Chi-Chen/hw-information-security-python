{
 "cells": [
  {
   "attachments": {},
   "cell_type": "markdown",
   "metadata": {},
   "source": [
    "# Read and Write File with specific file"
   ]
  },
  {
   "cell_type": "code",
   "execution_count": 19,
   "metadata": {},
   "outputs": [],
   "source": [
    "## read a text file and convert the content into a text file with ASCII code, and turn the decimal ASCII code number into binary\n",
    "## ; finally output the decimal and binary code into a file"
   ]
  },
  {
   "cell_type": "code",
   "execution_count": 20,
   "metadata": {},
   "outputs": [],
   "source": [
    "def openFile(path):\n",
    "    with open(path,\"r\") as f:\n",
    "        txtContent=f.read()\n",
    "    \n",
    "    return txtContent"
   ]
  },
  {
   "cell_type": "code",
   "execution_count": 21,
   "metadata": {},
   "outputs": [],
   "source": [
    "def writeTextWithString(path,text):\n",
    "    with open(path,'w')as f:\n",
    "        f.write(text)"
   ]
  },
  {
   "cell_type": "code",
   "execution_count": 22,
   "metadata": {},
   "outputs": [],
   "source": [
    "from PIL import Image\n",
    "import numpy as np\n",
    "\n",
    "def readIMGtopixel(path):\n",
    "    WIDTH=int(0)\n",
    "    HEIGHT=int(0)\n",
    "    img: Image =Image.open(path)\n",
    "    imgMatrix = np.array(Image.open(path).convert('L'),'i') #dtype=int\n",
    "    HEIGHT=int(img.height)\n",
    "    WIDTH=int(img.width)\n",
    "    return imgMatrix,HEIGHT,WIDTH\n",
    "#end def"
   ]
  },
  {
   "cell_type": "code",
   "execution_count": 23,
   "metadata": {},
   "outputs": [],
   "source": [
    "import math\n",
    "def decimalToBinary(num:int):\n",
    "    divisor=0\n",
    "    arrList=list()\n",
    "    arrList.clear()\n",
    "\n",
    "    dividend=num\n",
    "    ## 沒有寫floor會出錯\n",
    "    while(dividend/2!=0):\n",
    "            divisor+=1\n",
    "            dividend=math.floor(dividend/2)\n",
    "    ## end while\n",
    "\n",
    "    while(divisor>=0):\n",
    "        if(num>=math.pow(2,divisor)):\n",
    "                num-=math.pow(2,divisor)\n",
    "                divisor-=1\n",
    "                arrList.append('1')\n",
    "        else:\n",
    "                divisor-=1\n",
    "                arrList.append('0')\n",
    "            ##end if-else\n",
    "    ## end while\n",
    "\n",
    "\n",
    "    while(len(arrList)<8):\n",
    "        arrList.insert(0,0)\n",
    "    ## end while\n",
    "\n",
    "    binary_string: str = \"\"\n",
    "    for char_num in arrList:\n",
    "        binary_string = binary_string + str(char_num)\n",
    "    \n",
    "    return binary_string\n",
    "##end define"
   ]
  },
  {
   "attachments": {},
   "cell_type": "markdown",
   "metadata": {},
   "source": [
    "### Main"
   ]
  },
  {
   "attachments": {},
   "cell_type": "markdown",
   "metadata": {},
   "source": [
    "##### text part"
   ]
  },
  {
   "cell_type": "code",
   "execution_count": 24,
   "metadata": {},
   "outputs": [],
   "source": [
    "origin=openFile(\"Txt_File .txt\")\n",
    "string=\"\"\n",
    "LIST=[]\n",
    "for element in origin:\n",
    "    LIST.append(ord(element))\n",
    "    string+=str((ord(element)))\n",
    "    string+=\" \"\n",
    "#end for\n",
    "writeTextWithString(\"./output_txtDecimal.txt\",string)"
   ]
  },
  {
   "cell_type": "code",
   "execution_count": 25,
   "metadata": {},
   "outputs": [],
   "source": [
    "#convert decimal to binary\n",
    "string=\"\"\n",
    "for i in range(len(LIST)):\n",
    "    string+=str(decimalToBinary(LIST[i]))\n",
    "    string+=\" \"\n",
    "\n",
    "writeTextWithString(\"./output_txtBinary.txt\",string)"
   ]
  },
  {
   "attachments": {},
   "cell_type": "markdown",
   "metadata": {},
   "source": [
    "##### picture part"
   ]
  },
  {
   "cell_type": "code",
   "execution_count": 28,
   "metadata": {},
   "outputs": [],
   "source": [
    "LIST=[]\n",
    "string=\"\"\n",
    "img,HEIGHT,WIDTH=readIMGtopixel(\"Img_File.bmp\")\n",
    "for i_vertical in range(HEIGHT):\n",
    "    for i_horizon in range(WIDTH):\n",
    "        LIST.append(img[i_vertical][i_horizon])\n",
    "        string+=str(img[i_vertical][i_horizon])+\" \"\n",
    "writeTextWithString(\"./output_picDecimal.txt\",string)"
   ]
  },
  {
   "cell_type": "code",
   "execution_count": 29,
   "metadata": {},
   "outputs": [],
   "source": [
    "#covert pic's decimal to binary\n",
    "#convert decimal to binary\n",
    "string=\"\"\n",
    "for i in range(len(LIST)):\n",
    "    string+=str(decimalToBinary(LIST[i]))\n",
    "    string+=\" \"\n",
    "\n",
    "writeTextWithString(\"./output_picBinary.txt\",string)"
   ]
  }
 ],
 "metadata": {
  "kernelspec": {
   "display_name": ".venv",
   "language": "python",
   "name": "python3"
  },
  "language_info": {
   "codemirror_mode": {
    "name": "ipython",
    "version": 3
   },
   "file_extension": ".py",
   "mimetype": "text/x-python",
   "name": "python",
   "nbconvert_exporter": "python",
   "pygments_lexer": "ipython3",
   "version": "3.11.3"
  },
  "orig_nbformat": 4
 },
 "nbformat": 4,
 "nbformat_minor": 2
}
